{
    "metadata": {
        "kernelspec": {
            "name": "python3",
            "display_name": "Python 3 (ipykernel)",
            "language": "python"
        },
        "language_info": {
            "name": "python",
            "version": "3.8.10",
            "mimetype": "text/x-python",
            "codemirror_mode": {
                "name": "ipython",
                "version": 3
            },
            "pygments_lexer": "ipython3",
            "nbconvert_exporter": "python",
            "file_extension": ".py"
        }
    },
    "nbformat_minor": 2,
    "nbformat": 4,
    "cells": [
        {
            "cell_type": "markdown",
            "source": [
                "**Purpose of Notebook:** **Importing excel Tables from** '<u><mark>Data Taables .xlxs</mark></u>' **file using Pandas**\n",
                "\n",
                "**kernal Python 3**\n",
                "\n",
                "**Created by:** <span style=\"background-color: rgba(127, 127, 127, 0.1);\">Shabba</span>\n",
                "\n",
                "**Date:** <span style=\"background-color: rgba(127, 127, 127, 0.1);\">23-05-202</span><span style=\"background-color: rgba(127, 127, 127, 0.1);\">3</span>"
            ],
            "metadata": {
                "azdata_cell_guid": "e5d5648b-7d30-479b-8fa2-f652bf30691b"
            },
            "attachments": {}
        },
        {
            "cell_type": "code",
            "source": [
                ""
            ],
            "metadata": {
                "azdata_cell_guid": "8ecf80fb-84c1-4f74-bec9-c2a60948a2e2",
                "language": "python"
            },
            "outputs": [],
            "execution_count": null
        }
    ]
}