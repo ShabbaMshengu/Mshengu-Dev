{
    "metadata": {
        "kernelspec": {
            "name": "python3",
            "display_name": "Python 3 (ipykernel)",
            "language": "python"
        },
        "language_info": {
            "name": "python",
            "version": "3.8.10",
            "mimetype": "text/x-python",
            "codemirror_mode": {
                "name": "ipython",
                "version": 3
            },
            "pygments_lexer": "ipython3",
            "nbconvert_exporter": "python",
            "file_extension": ".py"
        }
    },
    "nbformat_minor": 2,
    "nbformat": 4,
    "cells": [
        {
            "cell_type": "markdown",
            "source": [
                "**Purpose of Notebook:** **Importing excel Tables from** '<u><mark>Data Tables .xlxs</mark></u>' **file using Pandas**\n",
                "\n",
                "**kernal Python 3**\n",
                "\n",
                "**Created by:** <span style=\"background-color:rgba(127, 127, 127, 0.1);\">Shabba</span>\n",
                "\n",
                "**Date:** <span style=\"background-color:rgba(127, 127, 127, 0.1);\">23-05-202</span><span style=\"background-color:rgba(127, 127, 127, 0.1);\">3</span>"
            ],
            "metadata": {
                "azdata_cell_guid": "e5d5648b-7d30-479b-8fa2-f652bf30691b"
            },
            "attachments": {}
        },
        {
            "cell_type": "markdown",
            "source": [
                "1\\. Provide a <mark>Database</mark> to be used and the <mark>Data Table/Config file</mark> Location and Properties (i.e., filename & Sheet name)"
            ],
            "metadata": {
                "language": "python",
                "azdata_cell_guid": "4f24dc19-6cd8-495b-a3fe-322adbe1ee16"
            },
            "attachments": {}
        },
        {
            "cell_type": "code",
            "source": [
                "strConfigFileLocation = r\"C:\\Users\\NkululekoTshabalala\\DBK Advisory Dropbox\\Nkululeko Tshabalala\\Github Script Mshengu\\config.ini\" ## note, the 'r' needs to stay in front to indicate this is a location. \r\n",
                "\r\n",
                "fileName = r\"\\Data Tables.xlsx\" ## The filename in the location as specified in your configuration file\r\n",
                "sheetName = 'Weightings' ## The sheetname in the filename supplied above\r\n",
                "database = 'Mshengu_Repository' ## the database where all these operations should take place\r\n",
                "sqlSchemaName = \"Refdata\"\r\n",
                "\r\n",
                "print(\"Complete\")"
            ],
            "metadata": {
                "azdata_cell_guid": "8ecf80fb-84c1-4f74-bec9-c2a60948a2e2",
                "language": "python",
                "tags": []
            },
            "outputs": [
                {
                    "name": "stdout",
                    "text": "Complete\n",
                    "output_type": "stream"
                }
            ],
            "execution_count": 26
        },
        {
            "cell_type": "markdown",
            "source": [
                "2\\. Install dependent packages on Azure Data Studio (if not done yet) \\>\\> Manage Packages \\>\\> Add New \\>\\> Pandas, xlrd, openpyxl, pyodbc, configparser"
            ],
            "metadata": {
                "language": "python",
                "azdata_cell_guid": "2b4d821d-1d6f-457a-b52e-7fad0967c7ae"
            },
            "attachments": {}
        },
        {
            "cell_type": "markdown",
            "source": [
                "3\\. Import libraries"
            ],
            "metadata": {
                "language": "python",
                "azdata_cell_guid": "9225fc89-5ee5-4b1c-b6aa-a16e0c0aa7ad"
            },
            "attachments": {}
        },
        {
            "cell_type": "code",
            "source": [
                "import pandas as pd\r\n",
                "import pyodbc\r\n",
                "import configparser\r\n",
                "print(\"omplete\") "
            ],
            "metadata": {
                "language": "python",
                "azdata_cell_guid": "31566661-b76d-435a-a5e1-05758e697a46",
                "tags": []
            },
            "outputs": [
                {
                    "name": "stdout",
                    "text": "omplete\n",
                    "output_type": "stream"
                }
            ],
            "execution_count": 27
        },
        {
            "cell_type": "markdown",
            "source": [
                "4\\. Cosmetics: Set the column width to display all the text to ensure that we are not cutting off any part of a cell"
            ],
            "metadata": {
                "language": "python",
                "azdata_cell_guid": "c89fa91b-ab80-4e41-af88-89f840c27ae0"
            },
            "attachments": {}
        },
        {
            "cell_type": "code",
            "source": [
                "pd.set_option(\"display.max_colwidth\", None)\r\n",
                "\r\n",
                "print(\"Complete\")"
            ],
            "metadata": {
                "language": "python",
                "azdata_cell_guid": "319a6557-ff3c-4001-a7db-631fd106ecd1",
                "tags": []
            },
            "outputs": [
                {
                    "name": "stdout",
                    "text": "Complete\n",
                    "output_type": "stream"
                }
            ],
            "execution_count": 28
        },
        {
            "cell_type": "markdown",
            "source": [
                "5\\. Get the file location from the config file <mark>\\[Get the <u>Data Tables</u> \\]</mark>"
            ],
            "metadata": {
                "language": "python",
                "azdata_cell_guid": "36bfdd42-e1d3-4405-80d5-7848e2d36187"
            },
            "attachments": {}
        },
        {
            "cell_type": "code",
            "source": [
                "strConfigFileLocation = r\"C:\\Users\\NkululekoTshabalala\\DBK Advisory Dropbox\\Nkululeko Tshabalala\\Github Script Mshengu\\Data Tables Folder\"\r\n",
                "location=strConfigFileLocation+fileName\r\n",
                "print(location)\r\n",
                "print(\"Complete\")"
            ],
            "metadata": {
                "language": "python",
                "azdata_cell_guid": "20302f5a-0728-4f23-8809-532c3f827cc7"
            },
            "outputs": [
                {
                    "name": "stdout",
                    "text": "C:\\Users\\NkululekoTshabalala\\DBK Advisory Dropbox\\Nkululeko Tshabalala\\Github Script Mshengu\\Data Tables Folder\\Data Tables.xlsx\nComplete\n",
                    "output_type": "stream"
                }
            ],
            "execution_count": 29
        },
        {
            "cell_type": "markdown",
            "source": [
                "6\\. Import the Data Tables from file location"
            ],
            "metadata": {
                "language": "python",
                "azdata_cell_guid": "61d23714-e5f7-492c-ba42-917b3ea92160"
            },
            "attachments": {}
        },
        {
            "cell_type": "code",
            "source": [
                "# using pandsas df to import the excel file, name your file after \"df\" (Create a similar cell like this for other tables & Add thier SheetName in the fisrt step)\r\n",
                "dfDataTable = pd.read_excel(location, sheet_name= sheetName, dtype=str,skiprows=1)\r\n",
                "print(\"Complete & File Imported successfully\")"
            ],
            "metadata": {
                "language": "python",
                "azdata_cell_guid": "bd4208b4-4e84-4b46-8690-77059e188e0a",
                "tags": []
            },
            "outputs": [
                {
                    "name": "stdout",
                    "text": "Complete & File Imported successfully\n",
                    "output_type": "stream"
                }
            ],
            "execution_count": 30
        },
        {
            "cell_type": "markdown",
            "source": [
                "7\\. Display the Imported data and <mark>Data Cleaning</mark>"
            ],
            "metadata": {
                "language": "python",
                "azdata_cell_guid": "93ef9578-815c-486b-b2e6-3d551bd5dbb4"
            },
            "attachments": {}
        },
        {
            "cell_type": "code",
            "source": [
                "dfDataTable.columns ## Show all the Columns imported"
            ],
            "metadata": {
                "language": "python",
                "azdata_cell_guid": "a9327dca-af6d-482d-a5de-2e43ca646af8"
            },
            "outputs": [
                {
                    "data": {
                        "text/plain": "Index(['Weight_ID', 'AMKEY', 'SDG_1', 'SDG_2', 'SDG_3', 'SDG_4', 'SDG_5',\n       'SDG_CHECK'],\n      dtype='object')"
                    },
                    "metadata": {},
                    "execution_count": 31,
                    "output_type": "execute_result"
                }
            ],
            "execution_count": 31
        },
        {
            "cell_type": "code",
            "source": [
                "dfDataTable.applymap(type) ## Show Data type per column"
            ],
            "metadata": {
                "language": "python",
                "azdata_cell_guid": "2592828d-1fba-44b8-851b-74aca4acdc48"
            },
            "outputs": [
                {
                    "data": {
                        "text/plain": "       Weight_ID          AMKEY            SDG_1            SDG_2  \\\n0  <class 'str'>  <class 'str'>    <class 'str'>    <class 'str'>   \n1  <class 'str'>  <class 'str'>    <class 'str'>    <class 'str'>   \n2  <class 'str'>  <class 'str'>  <class 'float'>  <class 'float'>   \n3  <class 'str'>  <class 'str'>    <class 'str'>    <class 'str'>   \n4  <class 'str'>  <class 'str'>    <class 'str'>  <class 'float'>   \n\n           SDG_3            SDG_4            SDG_5      SDG_CHECK  \n0  <class 'str'>  <class 'float'>    <class 'str'>  <class 'str'>  \n1  <class 'str'>  <class 'float'>  <class 'float'>  <class 'str'>  \n2  <class 'str'>    <class 'str'>    <class 'str'>  <class 'str'>  \n3  <class 'str'>    <class 'str'>  <class 'float'>  <class 'str'>  \n4  <class 'str'>    <class 'str'>    <class 'str'>  <class 'str'>  ",
                        "text/html": "<div>\n<style scoped>\n    .dataframe tbody tr th:only-of-type {\n        vertical-align: middle;\n    }\n\n    .dataframe tbody tr th {\n        vertical-align: top;\n    }\n\n    .dataframe thead th {\n        text-align: right;\n    }\n</style>\n<table border=\"1\" class=\"dataframe\">\n  <thead>\n    <tr style=\"text-align: right;\">\n      <th></th>\n      <th>Weight_ID</th>\n      <th>AMKEY</th>\n      <th>SDG_1</th>\n      <th>SDG_2</th>\n      <th>SDG_3</th>\n      <th>SDG_4</th>\n      <th>SDG_5</th>\n      <th>SDG_CHECK</th>\n    </tr>\n  </thead>\n  <tbody>\n    <tr>\n      <th>0</th>\n      <td>&lt;class 'str'&gt;</td>\n      <td>&lt;class 'str'&gt;</td>\n      <td>&lt;class 'str'&gt;</td>\n      <td>&lt;class 'str'&gt;</td>\n      <td>&lt;class 'str'&gt;</td>\n      <td>&lt;class 'float'&gt;</td>\n      <td>&lt;class 'str'&gt;</td>\n      <td>&lt;class 'str'&gt;</td>\n    </tr>\n    <tr>\n      <th>1</th>\n      <td>&lt;class 'str'&gt;</td>\n      <td>&lt;class 'str'&gt;</td>\n      <td>&lt;class 'str'&gt;</td>\n      <td>&lt;class 'str'&gt;</td>\n      <td>&lt;class 'str'&gt;</td>\n      <td>&lt;class 'float'&gt;</td>\n      <td>&lt;class 'float'&gt;</td>\n      <td>&lt;class 'str'&gt;</td>\n    </tr>\n    <tr>\n      <th>2</th>\n      <td>&lt;class 'str'&gt;</td>\n      <td>&lt;class 'str'&gt;</td>\n      <td>&lt;class 'float'&gt;</td>\n      <td>&lt;class 'float'&gt;</td>\n      <td>&lt;class 'str'&gt;</td>\n      <td>&lt;class 'str'&gt;</td>\n      <td>&lt;class 'str'&gt;</td>\n      <td>&lt;class 'str'&gt;</td>\n    </tr>\n    <tr>\n      <th>3</th>\n      <td>&lt;class 'str'&gt;</td>\n      <td>&lt;class 'str'&gt;</td>\n      <td>&lt;class 'str'&gt;</td>\n      <td>&lt;class 'str'&gt;</td>\n      <td>&lt;class 'str'&gt;</td>\n      <td>&lt;class 'str'&gt;</td>\n      <td>&lt;class 'float'&gt;</td>\n      <td>&lt;class 'str'&gt;</td>\n    </tr>\n    <tr>\n      <th>4</th>\n      <td>&lt;class 'str'&gt;</td>\n      <td>&lt;class 'str'&gt;</td>\n      <td>&lt;class 'str'&gt;</td>\n      <td>&lt;class 'float'&gt;</td>\n      <td>&lt;class 'str'&gt;</td>\n      <td>&lt;class 'str'&gt;</td>\n      <td>&lt;class 'str'&gt;</td>\n      <td>&lt;class 'str'&gt;</td>\n    </tr>\n  </tbody>\n</table>\n</div>"
                    },
                    "metadata": {},
                    "execution_count": 32,
                    "output_type": "execute_result"
                }
            ],
            "execution_count": 32
        },
        {
            "cell_type": "code",
            "source": [
                "dfDataTable ## Show data inside the Table"
            ],
            "metadata": {
                "language": "python",
                "azdata_cell_guid": "d144e992-a99a-4c23-91bd-b88cabf3d7dd"
            },
            "outputs": [
                {
                    "data": {
                        "text/plain": "  Weight_ID AMKEY SDG_1 SDG_2 SDG_3 SDG_4 SDG_5 SDG_CHECK\n0         1     1   0.6   0.1  0.15   NaN  0.15         1\n1         2     2  0.15   0.6  0.25   NaN   NaN         1\n2         3     3   NaN   NaN  0.15  0.75   0.1         1\n3         4     4   0.6  0.15   0.1  0.15   NaN         1\n4         5     5   0.1   NaN   0.6  0.15  0.15         1",
                        "text/html": "<div>\n<style scoped>\n    .dataframe tbody tr th:only-of-type {\n        vertical-align: middle;\n    }\n\n    .dataframe tbody tr th {\n        vertical-align: top;\n    }\n\n    .dataframe thead th {\n        text-align: right;\n    }\n</style>\n<table border=\"1\" class=\"dataframe\">\n  <thead>\n    <tr style=\"text-align: right;\">\n      <th></th>\n      <th>Weight_ID</th>\n      <th>AMKEY</th>\n      <th>SDG_1</th>\n      <th>SDG_2</th>\n      <th>SDG_3</th>\n      <th>SDG_4</th>\n      <th>SDG_5</th>\n      <th>SDG_CHECK</th>\n    </tr>\n  </thead>\n  <tbody>\n    <tr>\n      <th>0</th>\n      <td>1</td>\n      <td>1</td>\n      <td>0.6</td>\n      <td>0.1</td>\n      <td>0.15</td>\n      <td>NaN</td>\n      <td>0.15</td>\n      <td>1</td>\n    </tr>\n    <tr>\n      <th>1</th>\n      <td>2</td>\n      <td>2</td>\n      <td>0.15</td>\n      <td>0.6</td>\n      <td>0.25</td>\n      <td>NaN</td>\n      <td>NaN</td>\n      <td>1</td>\n    </tr>\n    <tr>\n      <th>2</th>\n      <td>3</td>\n      <td>3</td>\n      <td>NaN</td>\n      <td>NaN</td>\n      <td>0.15</td>\n      <td>0.75</td>\n      <td>0.1</td>\n      <td>1</td>\n    </tr>\n    <tr>\n      <th>3</th>\n      <td>4</td>\n      <td>4</td>\n      <td>0.6</td>\n      <td>0.15</td>\n      <td>0.1</td>\n      <td>0.15</td>\n      <td>NaN</td>\n      <td>1</td>\n    </tr>\n    <tr>\n      <th>4</th>\n      <td>5</td>\n      <td>5</td>\n      <td>0.1</td>\n      <td>NaN</td>\n      <td>0.6</td>\n      <td>0.15</td>\n      <td>0.15</td>\n      <td>1</td>\n    </tr>\n  </tbody>\n</table>\n</div>"
                    },
                    "metadata": {},
                    "execution_count": 33,
                    "output_type": "execute_result"
                }
            ],
            "execution_count": 33
        },
        {
            "cell_type": "code",
            "source": [
                "dfDataTable = dfDataTable.where(pd.notnull(dfDataTable),None) ## convertion all the NaN to None\r\n",
                "dfDataTable ## Check the changes from the Above Step"
            ],
            "metadata": {
                "language": "python",
                "azdata_cell_guid": "636922e2-d871-4c5c-a189-ae95a8b446fa"
            },
            "outputs": [
                {
                    "data": {
                        "text/plain": "  Weight_ID AMKEY SDG_1 SDG_2 SDG_3 SDG_4 SDG_5 SDG_CHECK\n0         1     1   0.6   0.1  0.15  None  0.15         1\n1         2     2  0.15   0.6  0.25  None  None         1\n2         3     3  None  None  0.15  0.75   0.1         1\n3         4     4   0.6  0.15   0.1  0.15  None         1\n4         5     5   0.1  None   0.6  0.15  0.15         1",
                        "text/html": "<div>\n<style scoped>\n    .dataframe tbody tr th:only-of-type {\n        vertical-align: middle;\n    }\n\n    .dataframe tbody tr th {\n        vertical-align: top;\n    }\n\n    .dataframe thead th {\n        text-align: right;\n    }\n</style>\n<table border=\"1\" class=\"dataframe\">\n  <thead>\n    <tr style=\"text-align: right;\">\n      <th></th>\n      <th>Weight_ID</th>\n      <th>AMKEY</th>\n      <th>SDG_1</th>\n      <th>SDG_2</th>\n      <th>SDG_3</th>\n      <th>SDG_4</th>\n      <th>SDG_5</th>\n      <th>SDG_CHECK</th>\n    </tr>\n  </thead>\n  <tbody>\n    <tr>\n      <th>0</th>\n      <td>1</td>\n      <td>1</td>\n      <td>0.6</td>\n      <td>0.1</td>\n      <td>0.15</td>\n      <td>None</td>\n      <td>0.15</td>\n      <td>1</td>\n    </tr>\n    <tr>\n      <th>1</th>\n      <td>2</td>\n      <td>2</td>\n      <td>0.15</td>\n      <td>0.6</td>\n      <td>0.25</td>\n      <td>None</td>\n      <td>None</td>\n      <td>1</td>\n    </tr>\n    <tr>\n      <th>2</th>\n      <td>3</td>\n      <td>3</td>\n      <td>None</td>\n      <td>None</td>\n      <td>0.15</td>\n      <td>0.75</td>\n      <td>0.1</td>\n      <td>1</td>\n    </tr>\n    <tr>\n      <th>3</th>\n      <td>4</td>\n      <td>4</td>\n      <td>0.6</td>\n      <td>0.15</td>\n      <td>0.1</td>\n      <td>0.15</td>\n      <td>None</td>\n      <td>1</td>\n    </tr>\n    <tr>\n      <th>4</th>\n      <td>5</td>\n      <td>5</td>\n      <td>0.1</td>\n      <td>None</td>\n      <td>0.6</td>\n      <td>0.15</td>\n      <td>0.15</td>\n      <td>1</td>\n    </tr>\n  </tbody>\n</table>\n</div>"
                    },
                    "metadata": {},
                    "execution_count": 34,
                    "output_type": "execute_result"
                }
            ],
            "execution_count": 34
        },
        {
            "cell_type": "markdown",
            "source": [
                "**<u>8\\. Adding Data to SQL Server</u>**\n",
                "\n",
                "8.1 Connecting to the Database"
            ],
            "metadata": {
                "language": "python",
                "azdata_cell_guid": "eabf2122-cee4-4514-8387-79ee379c8af5"
            },
            "attachments": {}
        },
        {
            "cell_type": "code",
            "source": [
                "connConfig = configparser.ConfigParser()\r\n",
                "connConfig.read(strConfigFileLocation)\r\n",
                "server = \"13.246.56.66\"\r\n",
                "username = \"tshaba\"\r\n",
                "password = \"y4p8BOQkkUejyrDv\"\r\n",
                "port = \"1435\"\r\n",
                "cnxnStringSqlAlchemy = \"mssql+pyodbc://\"+username+\":\"+password+\"@\"+server+\"/\"+database+ \"?driver=ODBC+Driver+17+for+SQL+Server\"\r\n",
                "cnxnString = 'DRIVER={ODBC Driver 17 for SQL Server};SERVER='+server+','+port+';DATABASE='+database+';UID='+username+';PWD='+ password\r\n",
                "cnxn = pyodbc.connect(cnxnString)\r\n",
                "\r\n",
                "print(\"Connected to the Mshengu Repository Successfully\")"
            ],
            "metadata": {
                "language": "python",
                "azdata_cell_guid": "2e508e82-0cd0-4ff5-93a2-402ecc882668",
                "tags": [
                    "hide_input"
                ]
            },
            "outputs": [
                {
                    "name": "stdout",
                    "text": "Connected to the Mshengu Repository Successfully\n",
                    "output_type": "stream"
                }
            ],
            "execution_count": 35
        },
        {
            "cell_type": "markdown",
            "source": [
                "8.2 Import Data Into SQL tables from DataFrame."
            ],
            "metadata": {
                "language": "python",
                "azdata_cell_guid": "a8feb352-0c55-403c-9702-c88aa10f86e8"
            },
            "attachments": {}
        },
        {
            "cell_type": "code",
            "source": [
                "df=dfDataTable\r\n",
                "cursor = cnxn.cursor()\r\n",
                "op= \"TRUNCATE TABLE [Refdata].[SGD_Weigtings]\" ## Clean the table by deeting everything inside the table\r\n",
                "cursor.execute(op)\r\n",
                "\r\n",
                "query = \"SET IDENTITY_INSERT [Refdata].[SGD_Weigtings] ON; INSERT INTO [Refdata].[SGD_Weigtings] ([Weight_ID],[AMKEY],[SDG_1],[SDG_2],[SDG_3],[SDG_4],[SDG_5]) VALUES(?,?,?,?,?,?,?)\"\r\n",
                "\r\n",
                "for index, row in df.iterrows():\r\n",
                "\r\n",
                "    ## Weightings Table\r\n",
                "    data = df['Weight_ID'].at[index],df['AMKEY'].at[index],df['SDG_1'].at[index],df['SDG_2'].at[index],df['SDG_3'].at[index],df['SDG_4'].at[index],df['SDG_5'].at[index]\r\n",
                "    cursor.execute(query,data)\r\n",
                "cursor.commit()\r\n",
                "cursor.close()\r\n",
                "\r\n",
                "print(\"Data successfully uploaded to SQL Database\")"
            ],
            "metadata": {
                "language": "python",
                "azdata_cell_guid": "f1711239-537b-44f9-a0c1-ecb1dba51a43",
                "tags": []
            },
            "outputs": [],
            "execution_count": null
        },
        {
            "cell_type": "markdown",
            "source": [
                ""
            ],
            "metadata": {
                "language": "python",
                "azdata_cell_guid": "af0db7b6-fd64-40ee-8061-9cd5660979b1"
            }
        }
    ]
}